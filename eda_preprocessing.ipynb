{
 "cells": [
  {
   "cell_type": "markdown",
   "metadata": {},
   "source": [
    "### Import libraries"
   ]
  },
  {
   "cell_type": "code",
   "execution_count": 2,
   "metadata": {},
   "outputs": [],
   "source": [
    "import pandas as pd"
   ]
  },
  {
   "cell_type": "markdown",
   "metadata": {},
   "source": [
    "### Load dataframes"
   ]
  },
  {
   "cell_type": "code",
   "execution_count": 35,
   "metadata": {},
   "outputs": [],
   "source": [
    "accounts_df = pd.read_excel(\"Assignment1.xlsx\",sheet_name=\"Accounts\").replace({float(\"nan\"):None})\n",
    "claims_df = pd.read_excel(\"Assignment1.xlsx\",sheet_name=\"Claims\").replace({float(\"nan\"):None})\n",
    "policies_df = pd.read_excel(\"Assignment1.xlsx\",sheet_name=\"Policies\").replace({float(\"nan\"):None})"
   ]
  },
  {
   "cell_type": "markdown",
   "metadata": {},
   "source": [
    "### Analysing the accounts dataframe"
   ]
  },
  {
   "cell_type": "code",
   "execution_count": 36,
   "metadata": {},
   "outputs": [
    {
     "data": {
      "text/html": [
       "<div>\n",
       "<style scoped>\n",
       "    .dataframe tbody tr th:only-of-type {\n",
       "        vertical-align: middle;\n",
       "    }\n",
       "\n",
       "    .dataframe tbody tr th {\n",
       "        vertical-align: top;\n",
       "    }\n",
       "\n",
       "    .dataframe thead th {\n",
       "        text-align: right;\n",
       "    }\n",
       "</style>\n",
       "<table border=\"1\" class=\"dataframe\">\n",
       "  <thead>\n",
       "    <tr style=\"text-align: right;\">\n",
       "      <th></th>\n",
       "      <th>AccountId</th>\n",
       "      <th>Name</th>\n",
       "      <th>Age</th>\n",
       "      <th>City</th>\n",
       "      <th>State</th>\n",
       "      <th>Pincode</th>\n",
       "    </tr>\n",
       "  </thead>\n",
       "  <tbody>\n",
       "    <tr>\n",
       "      <th>0</th>\n",
       "      <td>0012j00000GjoGnAAJ</td>\n",
       "      <td>Testt test Kumarr</td>\n",
       "      <td>29</td>\n",
       "      <td>Pune</td>\n",
       "      <td>Maharashtra</td>\n",
       "      <td>411040.0</td>\n",
       "    </tr>\n",
       "    <tr>\n",
       "      <th>1</th>\n",
       "      <td>0012j00000GmxLdAAJ</td>\n",
       "      <td>Testeshaan Testaggarwal</td>\n",
       "      <td>33</td>\n",
       "      <td>Pune</td>\n",
       "      <td>Maharashtra</td>\n",
       "      <td>411004.0</td>\n",
       "    </tr>\n",
       "    <tr>\n",
       "      <th>2</th>\n",
       "      <td>0018p0000054vjzAAA</td>\n",
       "      <td>Divyatest Test Test</td>\n",
       "      <td>33</td>\n",
       "      <td>Pune</td>\n",
       "      <td>Maharashtra</td>\n",
       "      <td>411004.0</td>\n",
       "    </tr>\n",
       "    <tr>\n",
       "      <th>3</th>\n",
       "      <td>0018p000004rhlqAAA</td>\n",
       "      <td>Test1 Test Test2</td>\n",
       "      <td>33</td>\n",
       "      <td>Pune</td>\n",
       "      <td>Maharashtra</td>\n",
       "      <td>411004.0</td>\n",
       "    </tr>\n",
       "    <tr>\n",
       "      <th>4</th>\n",
       "      <td>0018p00000552gZAAQ</td>\n",
       "      <td>Test Test Test</td>\n",
       "      <td>33</td>\n",
       "      <td>Pune</td>\n",
       "      <td>Maharashtra</td>\n",
       "      <td>411004.0</td>\n",
       "    </tr>\n",
       "  </tbody>\n",
       "</table>\n",
       "</div>"
      ],
      "text/plain": [
       "            AccountId                     Name  Age  City        State  \\\n",
       "0  0012j00000GjoGnAAJ        Testt test Kumarr   29  Pune  Maharashtra   \n",
       "1  0012j00000GmxLdAAJ  Testeshaan Testaggarwal   33  Pune  Maharashtra   \n",
       "2  0018p0000054vjzAAA      Divyatest Test Test   33  Pune  Maharashtra   \n",
       "3  0018p000004rhlqAAA         Test1 Test Test2   33  Pune  Maharashtra   \n",
       "4  0018p00000552gZAAQ           Test Test Test   33  Pune  Maharashtra   \n",
       "\n",
       "    Pincode  \n",
       "0  411040.0  \n",
       "1  411004.0  \n",
       "2  411004.0  \n",
       "3  411004.0  \n",
       "4  411004.0  "
      ]
     },
     "execution_count": 36,
     "metadata": {},
     "output_type": "execute_result"
    }
   ],
   "source": [
    "accounts_df.head()"
   ]
  },
  {
   "cell_type": "code",
   "execution_count": 37,
   "metadata": {},
   "outputs": [
    {
     "data": {
      "text/plain": [
       "(60, 6)"
      ]
     },
     "execution_count": 37,
     "metadata": {},
     "output_type": "execute_result"
    }
   ],
   "source": [
    "accounts_df.shape"
   ]
  },
  {
   "cell_type": "code",
   "execution_count": 38,
   "metadata": {},
   "outputs": [
    {
     "data": {
      "text/plain": [
       "AccountId    0\n",
       "Name         0\n",
       "Age          0\n",
       "City         4\n",
       "State        4\n",
       "Pincode      4\n",
       "dtype: int64"
      ]
     },
     "execution_count": 38,
     "metadata": {},
     "output_type": "execute_result"
    }
   ],
   "source": [
    "accounts_df.isnull().sum()"
   ]
  },
  {
   "cell_type": "code",
   "execution_count": 39,
   "metadata": {},
   "outputs": [
    {
     "data": {
      "text/plain": [
       "AccountId    60\n",
       "Name         47\n",
       "Age          14\n",
       "City          6\n",
       "State         3\n",
       "Pincode       7\n",
       "dtype: int64"
      ]
     },
     "execution_count": 39,
     "metadata": {},
     "output_type": "execute_result"
    }
   ],
   "source": [
    "accounts_df.nunique()"
   ]
  },
  {
   "cell_type": "markdown",
   "metadata": {},
   "source": [
    "### Analysing the polices dataframe"
   ]
  },
  {
   "cell_type": "code",
   "execution_count": 40,
   "metadata": {},
   "outputs": [
    {
     "data": {
      "text/html": [
       "<div>\n",
       "<style scoped>\n",
       "    .dataframe tbody tr th:only-of-type {\n",
       "        vertical-align: middle;\n",
       "    }\n",
       "\n",
       "    .dataframe tbody tr th {\n",
       "        vertical-align: top;\n",
       "    }\n",
       "\n",
       "    .dataframe thead th {\n",
       "        text-align: right;\n",
       "    }\n",
       "</style>\n",
       "<table border=\"1\" class=\"dataframe\">\n",
       "  <thead>\n",
       "    <tr style=\"text-align: right;\">\n",
       "      <th></th>\n",
       "      <th>HAN</th>\n",
       "      <th>Policy Name</th>\n",
       "    </tr>\n",
       "  </thead>\n",
       "  <tbody>\n",
       "    <tr>\n",
       "      <th>0</th>\n",
       "      <td>01CHSP0000002222</td>\n",
       "      <td>Testt test Kumarr Complete Health Solution Pla...</td>\n",
       "    </tr>\n",
       "    <tr>\n",
       "      <th>1</th>\n",
       "      <td>01FHPP02737125</td>\n",
       "      <td>Testeshaan Testaggarwal Family Health Prime Pro</td>\n",
       "    </tr>\n",
       "    <tr>\n",
       "      <th>2</th>\n",
       "      <td>GM01CSHP04707551</td>\n",
       "      <td>Divyatest Test Test Credit Suisse Health Prime...</td>\n",
       "    </tr>\n",
       "    <tr>\n",
       "      <th>3</th>\n",
       "      <td>GM01RHHPP04222055</td>\n",
       "      <td>Test1 Test Test2 Red Hat Health Prime Plan</td>\n",
       "    </tr>\n",
       "    <tr>\n",
       "      <th>4</th>\n",
       "      <td>GM01CSHP04529738</td>\n",
       "      <td>Test Test Test Credit Suisse Health Prime Plus</td>\n",
       "    </tr>\n",
       "  </tbody>\n",
       "</table>\n",
       "</div>"
      ],
      "text/plain": [
       "                 HAN                                        Policy Name\n",
       "0   01CHSP0000002222  Testt test Kumarr Complete Health Solution Pla...\n",
       "1     01FHPP02737125    Testeshaan Testaggarwal Family Health Prime Pro\n",
       "2   GM01CSHP04707551  Divyatest Test Test Credit Suisse Health Prime...\n",
       "3  GM01RHHPP04222055         Test1 Test Test2 Red Hat Health Prime Plan\n",
       "4   GM01CSHP04529738     Test Test Test Credit Suisse Health Prime Plus"
      ]
     },
     "execution_count": 40,
     "metadata": {},
     "output_type": "execute_result"
    }
   ],
   "source": [
    "policies_df.head()"
   ]
  },
  {
   "cell_type": "code",
   "execution_count": 41,
   "metadata": {},
   "outputs": [
    {
     "data": {
      "text/plain": [
       "(76, 2)"
      ]
     },
     "execution_count": 41,
     "metadata": {},
     "output_type": "execute_result"
    }
   ],
   "source": [
    "policies_df.shape"
   ]
  },
  {
   "cell_type": "code",
   "execution_count": 42,
   "metadata": {},
   "outputs": [
    {
     "data": {
      "text/plain": [
       "HAN            0\n",
       "Policy Name    0\n",
       "dtype: int64"
      ]
     },
     "execution_count": 42,
     "metadata": {},
     "output_type": "execute_result"
    }
   ],
   "source": [
    "policies_df.isnull().sum()"
   ]
  },
  {
   "cell_type": "code",
   "execution_count": 43,
   "metadata": {},
   "outputs": [
    {
     "data": {
      "text/plain": [
       "HAN            76\n",
       "Policy Name    62\n",
       "dtype: int64"
      ]
     },
     "execution_count": 43,
     "metadata": {},
     "output_type": "execute_result"
    }
   ],
   "source": [
    "policies_df.nunique()"
   ]
  },
  {
   "cell_type": "markdown",
   "metadata": {},
   "source": [
    "### Analysing the claims dataframe"
   ]
  },
  {
   "cell_type": "code",
   "execution_count": 44,
   "metadata": {},
   "outputs": [
    {
     "data": {
      "text/html": [
       "<div>\n",
       "<style scoped>\n",
       "    .dataframe tbody tr th:only-of-type {\n",
       "        vertical-align: middle;\n",
       "    }\n",
       "\n",
       "    .dataframe tbody tr th {\n",
       "        vertical-align: top;\n",
       "    }\n",
       "\n",
       "    .dataframe thead th {\n",
       "        text-align: right;\n",
       "    }\n",
       "</style>\n",
       "<table border=\"1\" class=\"dataframe\">\n",
       "  <thead>\n",
       "    <tr style=\"text-align: right;\">\n",
       "      <th></th>\n",
       "      <th>Id</th>\n",
       "      <th>CreatedDate</th>\n",
       "      <th>CaseNumber</th>\n",
       "      <th>HAN</th>\n",
       "      <th>BillAmount</th>\n",
       "      <th>Status</th>\n",
       "      <th>AccountId</th>\n",
       "    </tr>\n",
       "  </thead>\n",
       "  <tbody>\n",
       "    <tr>\n",
       "      <th>0</th>\n",
       "      <td>5008p000001I11XAAS</td>\n",
       "      <td>2021-10-20T03:03:45.000+0000</td>\n",
       "      <td>SR00754586</td>\n",
       "      <td>01CHSP0000002222</td>\n",
       "      <td>1900.0</td>\n",
       "      <td>Paid</td>\n",
       "      <td>0012j00000GjoGnAAJ</td>\n",
       "    </tr>\n",
       "    <tr>\n",
       "      <th>1</th>\n",
       "      <td>5008p000001I16iAAC</td>\n",
       "      <td>2021-10-20T03:13:18.000+0000</td>\n",
       "      <td>XYZDWS</td>\n",
       "      <td>None</td>\n",
       "      <td>124.0</td>\n",
       "      <td>Paid</td>\n",
       "      <td>0012j00000GjoGnAAJ</td>\n",
       "    </tr>\n",
       "    <tr>\n",
       "      <th>2</th>\n",
       "      <td>5008p000001I2U4AAK</td>\n",
       "      <td>2021-10-20T04:37:18.000+0000</td>\n",
       "      <td>SR00754644</td>\n",
       "      <td>01CHSP0000002222</td>\n",
       "      <td>2000.0</td>\n",
       "      <td>Paid</td>\n",
       "      <td>0012j00000GjoGnAAJ</td>\n",
       "    </tr>\n",
       "    <tr>\n",
       "      <th>3</th>\n",
       "      <td>5008p000001I3FsAAK</td>\n",
       "      <td>2021-10-20T05:07:37.000+0000</td>\n",
       "      <td>SR00754668</td>\n",
       "      <td>None</td>\n",
       "      <td>None</td>\n",
       "      <td>Paid</td>\n",
       "      <td>0012j00000GjoGnAAJ</td>\n",
       "    </tr>\n",
       "    <tr>\n",
       "      <th>4</th>\n",
       "      <td>5008p000001I4YBAA0</td>\n",
       "      <td>2021-10-20T05:49:35.000+0000</td>\n",
       "      <td>SR00754729</td>\n",
       "      <td>01CHSP0000002222</td>\n",
       "      <td>9000.0</td>\n",
       "      <td>Paid</td>\n",
       "      <td>0012j00000GjoGnAAJ</td>\n",
       "    </tr>\n",
       "  </tbody>\n",
       "</table>\n",
       "</div>"
      ],
      "text/plain": [
       "                   Id                   CreatedDate  CaseNumber  \\\n",
       "0  5008p000001I11XAAS  2021-10-20T03:03:45.000+0000  SR00754586   \n",
       "1  5008p000001I16iAAC  2021-10-20T03:13:18.000+0000      XYZDWS   \n",
       "2  5008p000001I2U4AAK  2021-10-20T04:37:18.000+0000  SR00754644   \n",
       "3  5008p000001I3FsAAK  2021-10-20T05:07:37.000+0000  SR00754668   \n",
       "4  5008p000001I4YBAA0  2021-10-20T05:49:35.000+0000  SR00754729   \n",
       "\n",
       "                HAN BillAmount Status           AccountId  \n",
       "0  01CHSP0000002222     1900.0   Paid  0012j00000GjoGnAAJ  \n",
       "1              None      124.0   Paid  0012j00000GjoGnAAJ  \n",
       "2  01CHSP0000002222     2000.0   Paid  0012j00000GjoGnAAJ  \n",
       "3              None       None   Paid  0012j00000GjoGnAAJ  \n",
       "4  01CHSP0000002222     9000.0   Paid  0012j00000GjoGnAAJ  "
      ]
     },
     "execution_count": 44,
     "metadata": {},
     "output_type": "execute_result"
    }
   ],
   "source": [
    "claims_df.head()"
   ]
  },
  {
   "cell_type": "code",
   "execution_count": 45,
   "metadata": {},
   "outputs": [
    {
     "data": {
      "text/plain": [
       "(214, 7)"
      ]
     },
     "execution_count": 45,
     "metadata": {},
     "output_type": "execute_result"
    }
   ],
   "source": [
    "claims_df.shape"
   ]
  },
  {
   "cell_type": "code",
   "execution_count": 46,
   "metadata": {},
   "outputs": [
    {
     "data": {
      "text/plain": [
       "Id              0\n",
       "CreatedDate     0\n",
       "CaseNumber      0\n",
       "HAN            43\n",
       "BillAmount      1\n",
       "Status          0\n",
       "AccountId       0\n",
       "dtype: int64"
      ]
     },
     "execution_count": 46,
     "metadata": {},
     "output_type": "execute_result"
    }
   ],
   "source": [
    "claims_df.isnull().sum()"
   ]
  },
  {
   "cell_type": "code",
   "execution_count": 47,
   "metadata": {},
   "outputs": [
    {
     "data": {
      "text/plain": [
       "Id             214\n",
       "CreatedDate    214\n",
       "CaseNumber     214\n",
       "HAN             76\n",
       "BillAmount      42\n",
       "Status           1\n",
       "AccountId       60\n",
       "dtype: int64"
      ]
     },
     "execution_count": 47,
     "metadata": {},
     "output_type": "execute_result"
    }
   ],
   "source": [
    "claims_df.nunique()"
   ]
  },
  {
   "cell_type": "markdown",
   "metadata": {},
   "source": [
    "Primary key for each individual table:\n",
    "\n",
    "    Account -> AccountId\n",
    "    Policy -> HAN\n",
    "    Claim -> Id "
   ]
  },
  {
   "cell_type": "markdown",
   "metadata": {},
   "source": [
    "### Understanding the mapping of accounts(account_id) to policy(han)"
   ]
  },
  {
   "cell_type": "code",
   "execution_count": 48,
   "metadata": {},
   "outputs": [
    {
     "data": {
      "text/plain": [
       "{'0012j00000GjoGnAAJ': ['01CHSP0000002222'],\n",
       " '0012j00000GmxLdAAJ': ['01FHPP02737125'],\n",
       " '0018p0000054vjzAAA': ['GM01CSHP04707551'],\n",
       " '0018p000004rhlqAAA': ['GM01RHHPP04222055', 'GM01CHW04222019'],\n",
       " '0018p00000552gZAAQ': ['GM01CSHP04529738'],\n",
       " '0018p000004Y163AAC': ['GM01RHHPP04046313'],\n",
       " '0018p000005b1OgAAI': ['GM01DEMO04987812'],\n",
       " '0018p000007FZfzAAG': ['GM01CSHP06077167'],\n",
       " '0018p000007MBx7AAG': ['PO01HPWR06265434'],\n",
       " '0018p0000074z1eAAA': ['GM01CSHP05880952'],\n",
       " '0018p000007WtLdAAK': ['01HPWR06470159'],\n",
       " '0018p000006TVysAAG': ['01PCP06661762', '01CHSU06661758', '01HPWR06331654'],\n",
       " '0018p000007X2ylAAC': ['GM01DEMO06472521'],\n",
       " '0018p000007yxkPAAQ': ['GM01RHHPP07153201'],\n",
       " '0018p000006AFP6AAO': ['GM01RHHPP05499491'],\n",
       " '0018p000008P83tAAC': ['GM01CSHP07172248', 'GM01RPAIND08858862'],\n",
       " '0018p0000096Ap3AAE': ['01PAIN07468755', '01PAF07468672'],\n",
       " '0018p0000031RvQAAU': ['BW01HPWR02186176'],\n",
       " '0018p000007eDVeAAM': ['GM01RHG07534168'],\n",
       " '0018p000007oMCcAAM': ['01CHSU06662685TEST'],\n",
       " '0018p000009l3wBAAQ': ['GM01ATLA08342575'],\n",
       " '001OA000000jolUYAQ': ['GM01PAIND08663637'],\n",
       " '0018p000007tIsVAAU': ['AS01HPWR06748123'],\n",
       " '001OA000006f6KeYAI': ['GM01GOLDC09262452'],\n",
       " '001OA000001JSw6YAG': ['GM01GOLD09264647',\n",
       "  'GM01GOLDC09265147',\n",
       "  'GM01GOLD09264433',\n",
       "  'GM01GOLDC09264921'],\n",
       " '0018p000009aOEoAAM': ['GM01SHIV08406377', 'GM01AII09728333'],\n",
       " '001OA000000sMejYAE': ['GM01GOLDC09615149',\n",
       "  'GM01RHPWR08828606',\n",
       "  'GM01RHHPP08828582',\n",
       "  'GM01CSHP08828523',\n",
       "  'GM01ATLA08828581',\n",
       "  'FS01GOLDC11424760'],\n",
       " '0018p000009dTCuAAM': ['GM01VIETA09669361'],\n",
       " '0018p000005OZtzAAG': ['GM01DEMO09368957',\n",
       "  'GM01HPWR08481021',\n",
       "  'GM01GOLDC09264661',\n",
       "  'GM01PAF09334486',\n",
       "  'HL01HDFC13366330',\n",
       "  'GM01DEMO11297582'],\n",
       " '0018p000009WIRCAA4': ['GM01DEMO08005120'],\n",
       " '001OA000002X8FlYAK': ['GM01HEXA10591072'],\n",
       " '001OA000002WlIuYAK': ['GM01MCHP10578779'],\n",
       " '0018p000007pmXLAAY': ['GM01ATLA10660892',\n",
       "  'GM01RCSHP10690195',\n",
       "  'GM01GOLDC11426510FF',\n",
       "  'OT01GOLD13480327',\n",
       "  'HL01HDFC13492870',\n",
       "  'GM01CRED13336569',\n",
       "  'GM01DEMO14074505'],\n",
       " '001OA000002Z1HpYAK': ['GM01NVDIA10682261'],\n",
       " '001OA0000013DmwYAE': ['GM01RPA10538718'],\n",
       " '0018p000009VgdQAAS': ['01PA11279227'],\n",
       " '001OA0000032fa9YAA': ['GM01GOLDC11425225', 'GM01HPWR11425189'],\n",
       " '001OA000002xOhvYAE': ['01HPWR11278802'],\n",
       " '001OA0000040P9GYAU': ['01RPAF12428251'],\n",
       " '001OA0000043VTDYA2': ['GM01AGCO12442877'],\n",
       " '001OA000002dR7LYAU': ['GM01RHPWR10735942'],\n",
       " '001OA000006Oe7KYAS': ['HL01HDFC13684979'],\n",
       " '001OA000002zFfQYAU': ['GM01DEMO11307390'],\n",
       " '001OA000001WFWYYA4': ['2024META049432', '2024META049383'],\n",
       " '001OA000002m2chYAA': ['PO01PAF11793956'],\n",
       " '001OA000009jWTDYA2': ['2024PENTA1179025'],\n",
       " '001OA0000094W7WYAU': ['OT01PAF14966548'],\n",
       " '001OA000002e5sgYAA': ['FS01CSHP10747456'],\n",
       " '0018p000002xWG4AAM': ['NIVA2024B440630']}"
      ]
     },
     "execution_count": 48,
     "metadata": {},
     "output_type": "execute_result"
    }
   ],
   "source": [
    "account_dict = {}\n",
    "for account_id, han in zip(claims_df['AccountId'], claims_df['HAN']):\n",
    "    if han is not None:  \n",
    "        if account_id not in account_dict:\n",
    "            account_dict[account_id] = []  \n",
    "        if han not in account_dict[account_id]:  \n",
    "            account_dict[account_id].append(han)\n",
    "\n",
    "account_dict"
   ]
  },
  {
   "cell_type": "code",
   "execution_count": 49,
   "metadata": {},
   "outputs": [
    {
     "name": "stdout",
     "output_type": "stream",
     "text": [
      "Values shared among multiple keys:\n"
     ]
    }
   ],
   "source": [
    "# Finding common values across keys\n",
    "value_to_keys = {}\n",
    "\n",
    "# Map each value to the keys that contain it\n",
    "for key, values in account_dict.items():\n",
    "    for value in values:\n",
    "        if value not in value_to_keys:\n",
    "            value_to_keys[value] = []  # Initialize the list of keys\n",
    "        value_to_keys[value].append(key)\n",
    "\n",
    "# Print values that are shared across multiple keys\n",
    "print(\"Values shared among multiple keys:\")\n",
    "for value, keys in value_to_keys.items():\n",
    "    if len(keys) > 1:\n",
    "        print(f\"Value '{value}' is shared by keys: {keys}\")"
   ]
  },
  {
   "cell_type": "markdown",
   "metadata": {},
   "source": [
    "### Understanding the mapping of policy(HAN) to claims(Id)"
   ]
  },
  {
   "cell_type": "code",
   "execution_count": 52,
   "metadata": {},
   "outputs": [
    {
     "name": "stdout",
     "output_type": "stream",
     "text": [
      "('01CHSP0000002222', ['5008p000001I11XAAS', '5008p000001I2U4AAK', '5008p000001I4YBAA0', '5008p000001I5iQAAS'])\n",
      "('01FHPP02737125', ['5008p000002spYeAAI'])\n",
      "('GM01CSHP04707551', ['5008p000003MWYWAA4', '5008p000003MYbBAAW'])\n",
      "('GM01RHHPP04222055', ['5008p000003MgQwAAK', '5008p000003MgwtAAC', '5008p000003MpWTAA0'])\n",
      "('GM01CSHP04529738', ['5008p000003dPUTAA2'])\n",
      "('GM01RHHPP04046313', ['5008p000003iJolAAE', '5008p000003iKOsAAM', '5008p000003vboZAAQ', '5008p000003vcfkAAA'])\n",
      "('GM01DEMO04987812', ['5008p000003lrdaAAA', '5008p000004rPA9AAM'])\n",
      "('GM01CHW04222019', ['5008p000003ucvsAAA'])\n",
      "('GM01CSHP06077167', ['5008p000004UQBYAA4'])\n",
      "('PO01HPWR06265434', ['5008p000004VGhrAAG'])\n",
      "('GM01CSHP05880952', ['5008p000004eeYaAAI', '5008p000004hzBNAAY', '5008p000004v4POAAY'])\n",
      "('01HPWR06470159', ['5008p000004mQQUAA2'])\n",
      "('01PCP06661762', ['5008p000004v9KEAAY'])\n",
      "('01CHSU06661758', ['5008p000004vajVAAQ', '5008p000004vao0AAA'])\n",
      "('GM01DEMO06472521', ['5008p000005FUUSAA4', '5008p000005U0ViAAK'])\n",
      "('GM01RHHPP07153201', ['5008p000005PPwAAAW'])\n",
      "('GM01RHHPP05499491', ['5008p000005TXieAAG'])\n",
      "('GM01CSHP07172248', ['5008p000005ft7bAAA'])\n",
      "('01HPWR06331654', ['5008p000005g1iqAAA'])\n",
      "('01PAIN07468755', ['5008p000005imm8AAA'])\n",
      "('01PAF07468672', ['5008p000005j0GLAAY'])\n",
      "('BW01HPWR02186176', ['5008p000005kuH8AAI'])\n",
      "('GM01RHG07534168', ['5008p000005mYMNAA2'])\n",
      "('01CHSU06662685TEST', ['5008p0000060k1CAAQ', '5008p0000060qYGAAY'])\n",
      "('GM01ATLA08342575', ['500OA000000QbolYAC'])\n",
      "('GM01PAIND08663637', ['500OA000000jFe1YAE', '500OA000000j86QYAQ', '500OA000000xMnlYAE'])\n",
      "('AS01HPWR06748123', ['500OA000000kHXWYA2'])\n",
      "('GM01RPAIND08858862', ['500OA000000vwtmYAA', '500OA000000wJ79YAE', '500OA000000wHBsYAM', '500OA0000012r7jYAA', '500OA0000019sGlYAI', '500OA000001E9KbYAK', '500OA000001E9hBYAS'])\n",
      "('GM01GOLDC09262452', ['500OA000001FMpFYAW'])\n",
      "('GM01GOLD09264647', ['500OA000001G0mhYAC', '500OA000001G3B4YAK', '500OA000001FzHDYA0'])\n",
      "('GM01GOLDC09265147', ['500OA000001FrjQYAS', '500OA000001FsyzYAC', '500OA000001G2F1YAK'])\n",
      "('GM01GOLD09264433', ['500OA000001FvQRYA0', '500OA000001FqInYAK', '500OA000001FwePYAS'])\n",
      "('GM01GOLDC09264921', ['500OA000001G4blYAC', '500OA000001FspIYAS'])\n",
      "('GM01SHIV08406377', ['500OA000001ZcxtYAC'])\n",
      "('GM01GOLDC09615149', ['500OA000001ZRxkYAG', '500OA000001Ze8TYAS', '500OA000001bS3CYAU'])\n",
      "('GM01RHPWR08828606', ['500OA000001ZSvPYAW'])\n",
      "('GM01RHHPP08828582', ['500OA000001aIsLYAU', '500OA00000EMImoYAH'])\n",
      "('GM01CSHP08828523', ['500OA000001bdWZYAY'])\n",
      "('GM01ATLA08828581', ['500OA000001bcU3YAI', '500OA000001blaTYAQ'])\n",
      "('GM01VIETA09669361', ['500OA000001cyyfYAA'])\n",
      "('GM01AII09728333', ['500OA000001fGpsYAE'])\n",
      "('GM01DEMO09368957', ['500OA000001w9yRYAQ'])\n",
      "('GM01DEMO08005120', ['500OA00000296pqYAA'])\n",
      "('GM01HPWR08481021', ['500OA000002NGiwYAG', '500OA000002NJqXYAW'])\n",
      "('GM01HEXA10591072', ['500OA000002OQLIYA4', '500OA000002OT9SYAW'])\n",
      "('GM01MCHP10578779', ['500OA000002R6D9YAK'])\n",
      "('GM01ATLA10660892', ['500OA000002SAkuYAG', '500OA0000039eNyYAI'])\n",
      "('GM01NVDIA10682261', ['500OA000002SVPWYA4', '500OA000002SVsXYAW', '500OA000002STyoYAG'])\n",
      "('GM01RCSHP10690195', ['500OA000002SePhYAK', '500OA000002Z30KYAS', '500OA000002ZPTpYAO', '500OA000002ZQcoYAG', '500OA000002ZLuvYAG', '500OA000002ZKqpYAG', '500OA000002ZQbEYAW'])\n",
      "('GM01RPA10538718', ['500OA000002Uu24YAC'])\n",
      "('GM01GOLDC09264661', ['500OA000002a7TMYAY'])\n",
      "('GM01PAF09334486', ['500OA000002bmEEYAY', '500OA000002boxbYAA', '500OA000002bqPtYAI'])\n",
      "('GM01GOLDC11426510FF', ['500OA0000033riqYAA', '500OA000003AR0PYAW', '500OA00000EY0t1YAD', '500OA00000EXxZRYA1'])\n",
      "('01PA11279227', ['500OA0000033vw9YAA', '500OA0000033tPiYAI', '500OA0000033nNVYAY'])\n",
      "('GM01GOLDC11425225', ['500OA000003ahYNYAY', '500OA000003cEIUYA2', '500OA00000FWMNRYA5', '500OA00000FWxmvYAD', '500OA00000FX0aqYAD', '500OA00000FX6xGYAT', '500OA00000FXAxdYAH', '500OA00000FbhOrYAJ', '500OA00000Fj9W9YAJ'])\n",
      "('01HPWR11278802', ['500OA000006GnhiYAC'])\n",
      "('HL01HDFC13366330', ['500OA000007DQdrYAG', '500OA000007DTl6YAG'])\n",
      "('01RPAF12428251', ['500OA000007ZtnQYAS'])\n",
      "('OT01GOLD13480327', ['500OA000007iLPhYAM', '500OA000007iMRGYA2', '500OA000009PxjGYAS', '500OA000009Q6ivYAC'])\n",
      "('HL01HDFC13492870', ['500OA000007igU9YAI', '500OA000007iwNdYAI', '500OA000007iyWfYAI', '500OA000007iw8ZYAQ', '500OA000007j37aYAA', '500OA000007jARdYAM', '500OA000007jBGvYAM', '500OA000007jCAlYAM', '500OA000007j8isYAA', '500OA000007jFsUYAU'])\n",
      "('GM01AGCO12442877', ['500OA000007lM8GYAU'])\n",
      "('GM01RHPWR10735942', ['500OA000007lb1oYAA'])\n",
      "('GM01CRED13336569', ['500OA000008ShTfYAK', '500OA000008T0ssYAC', '500OA00000AKxTRYA1', '500OA00000AKzvFYAT'])\n",
      "('HL01HDFC13684979', ['500OA000008YVGfYAO'])\n",
      "('GM01DEMO14074505', ['500OA000009xY25YAE'])\n",
      "('GM01HPWR11425189', ['500OA00000DjsLXYAZ', '500OA00000EffpMYAR'])\n",
      "('GM01DEMO11307390', ['500OA00000DkogqYAB'])\n",
      "('FS01GOLDC11424760', ['500OA00000DsxaAYAR'])\n",
      "('2024META049432', ['500OA00000ESF7cYAH', '500OA00000EToPNYA1', '500OA00000EU0ZIYA1', '500OA00000F873tYAB', '500OA00000GTi1FYAT', '500OA00000GTgxhYAD', '500OA00000GtQdrYAF', '500OA00000GtWK3YAN', '500OA00000GtVleYAF', '500OA00000GtWoBYAV', '500OA00000HUGQsYAP', '500OA00000HUISoYAP', '500OA00000HUkhIYAT', '500OA00000HUv5XYAT', '500OA00000HfOgwYAF'])\n",
      "('PO01PAF11793956', ['500OA00000FbgG6YAJ', '500OA00000FbWjqYAF', '500OA00000FbiUcYAJ'])\n",
      "('2024PENTA1179025', ['500OA00000FpYMgYAN'])\n",
      "('OT01PAF14966548', ['500OA00000GC5MtYAL'])\n",
      "('2024META049383', ['500OA00000GTwO4YAL'])\n",
      "('GM01DEMO11297582', ['500OA00000JZb34YAD'])\n",
      "('FS01CSHP10747456', ['500OA00000JlS6zYAF', '500OA00000Jqwy2YAB', '500OA00000Jr2yDYAR'])\n",
      "('NIVA2024B440630', ['500OA00000JlazgYAB'])\n"
     ]
    }
   ],
   "source": [
    "claim_dict = {}\n",
    "for claim_id, han in zip(claims_df['Id'], claims_df['HAN']):\n",
    "    if han is not None:  \n",
    "        if han not in claim_dict:\n",
    "            claim_dict[han] = []  \n",
    "        if claim_id not in claim_dict[han]:  \n",
    "            claim_dict[han].append(claim_id)\n",
    "\n",
    "for claim in claim_dict.items():\n",
    "    print(claim)"
   ]
  },
  {
   "cell_type": "markdown",
   "metadata": {},
   "source": [
    "### Observations: \n",
    "\n",
    "    1. For accounts to policy: One account can have more than one policy, two accounts can not have one policy\n",
    "    2. For policy to claims: One policy can have multiple claims"
   ]
  },
  {
   "cell_type": "markdown",
   "metadata": {},
   "source": [
    "### Adding policies to accounts dataframe"
   ]
  },
  {
   "cell_type": "code",
   "execution_count": 53,
   "metadata": {},
   "outputs": [
    {
     "data": {
      "text/html": [
       "<div>\n",
       "<style scoped>\n",
       "    .dataframe tbody tr th:only-of-type {\n",
       "        vertical-align: middle;\n",
       "    }\n",
       "\n",
       "    .dataframe tbody tr th {\n",
       "        vertical-align: top;\n",
       "    }\n",
       "\n",
       "    .dataframe thead th {\n",
       "        text-align: right;\n",
       "    }\n",
       "</style>\n",
       "<table border=\"1\" class=\"dataframe\">\n",
       "  <thead>\n",
       "    <tr style=\"text-align: right;\">\n",
       "      <th></th>\n",
       "      <th>AccountId</th>\n",
       "      <th>Name</th>\n",
       "      <th>Age</th>\n",
       "      <th>City</th>\n",
       "      <th>State</th>\n",
       "      <th>Pincode</th>\n",
       "      <th>PolicyHan</th>\n",
       "    </tr>\n",
       "  </thead>\n",
       "  <tbody>\n",
       "    <tr>\n",
       "      <th>0</th>\n",
       "      <td>0012j00000GjoGnAAJ</td>\n",
       "      <td>Testt test Kumarr</td>\n",
       "      <td>29</td>\n",
       "      <td>Pune</td>\n",
       "      <td>Maharashtra</td>\n",
       "      <td>411040.0</td>\n",
       "      <td>01CHSP0000002222</td>\n",
       "    </tr>\n",
       "    <tr>\n",
       "      <th>1</th>\n",
       "      <td>0012j00000GmxLdAAJ</td>\n",
       "      <td>Testeshaan Testaggarwal</td>\n",
       "      <td>33</td>\n",
       "      <td>Pune</td>\n",
       "      <td>Maharashtra</td>\n",
       "      <td>411004.0</td>\n",
       "      <td>01FHPP02737125</td>\n",
       "    </tr>\n",
       "    <tr>\n",
       "      <th>2</th>\n",
       "      <td>0018p0000054vjzAAA</td>\n",
       "      <td>Divyatest Test Test</td>\n",
       "      <td>33</td>\n",
       "      <td>Pune</td>\n",
       "      <td>Maharashtra</td>\n",
       "      <td>411004.0</td>\n",
       "      <td>GM01CSHP04707551</td>\n",
       "    </tr>\n",
       "    <tr>\n",
       "      <th>3</th>\n",
       "      <td>0018p000004rhlqAAA</td>\n",
       "      <td>Test1 Test Test2</td>\n",
       "      <td>33</td>\n",
       "      <td>Pune</td>\n",
       "      <td>Maharashtra</td>\n",
       "      <td>411004.0</td>\n",
       "      <td>GM01RHHPP04222055, GM01CHW04222019</td>\n",
       "    </tr>\n",
       "    <tr>\n",
       "      <th>4</th>\n",
       "      <td>0018p00000552gZAAQ</td>\n",
       "      <td>Test Test Test</td>\n",
       "      <td>33</td>\n",
       "      <td>Pune</td>\n",
       "      <td>Maharashtra</td>\n",
       "      <td>411004.0</td>\n",
       "      <td>GM01CSHP04529738</td>\n",
       "    </tr>\n",
       "  </tbody>\n",
       "</table>\n",
       "</div>"
      ],
      "text/plain": [
       "            AccountId                     Name  Age  City        State  \\\n",
       "0  0012j00000GjoGnAAJ        Testt test Kumarr   29  Pune  Maharashtra   \n",
       "1  0012j00000GmxLdAAJ  Testeshaan Testaggarwal   33  Pune  Maharashtra   \n",
       "2  0018p0000054vjzAAA      Divyatest Test Test   33  Pune  Maharashtra   \n",
       "3  0018p000004rhlqAAA         Test1 Test Test2   33  Pune  Maharashtra   \n",
       "4  0018p00000552gZAAQ           Test Test Test   33  Pune  Maharashtra   \n",
       "\n",
       "    Pincode                           PolicyHan  \n",
       "0  411040.0                    01CHSP0000002222  \n",
       "1  411004.0                      01FHPP02737125  \n",
       "2  411004.0                    GM01CSHP04707551  \n",
       "3  411004.0  GM01RHHPP04222055, GM01CHW04222019  \n",
       "4  411004.0                    GM01CSHP04529738  "
      ]
     },
     "execution_count": 53,
     "metadata": {},
     "output_type": "execute_result"
    }
   ],
   "source": [
    "accounts_df['PolicyHan'] = accounts_df['AccountId'].map(account_dict).apply(lambda x: ', '.join(x) if isinstance(x, list) else '')\n",
    "accounts_df.head()"
   ]
  },
  {
   "cell_type": "markdown",
   "metadata": {},
   "source": [
    "### Adding account id to each policy"
   ]
  },
  {
   "cell_type": "code",
   "execution_count": 54,
   "metadata": {},
   "outputs": [
    {
     "data": {
      "text/html": [
       "<div>\n",
       "<style scoped>\n",
       "    .dataframe tbody tr th:only-of-type {\n",
       "        vertical-align: middle;\n",
       "    }\n",
       "\n",
       "    .dataframe tbody tr th {\n",
       "        vertical-align: top;\n",
       "    }\n",
       "\n",
       "    .dataframe thead th {\n",
       "        text-align: right;\n",
       "    }\n",
       "</style>\n",
       "<table border=\"1\" class=\"dataframe\">\n",
       "  <thead>\n",
       "    <tr style=\"text-align: right;\">\n",
       "      <th></th>\n",
       "      <th>HAN</th>\n",
       "      <th>Policy Name</th>\n",
       "      <th>AccountId</th>\n",
       "    </tr>\n",
       "  </thead>\n",
       "  <tbody>\n",
       "    <tr>\n",
       "      <th>0</th>\n",
       "      <td>01CHSP0000002222</td>\n",
       "      <td>Testt test Kumarr Complete Health Solution Pla...</td>\n",
       "      <td>0012j00000GjoGnAAJ</td>\n",
       "    </tr>\n",
       "    <tr>\n",
       "      <th>1</th>\n",
       "      <td>01FHPP02737125</td>\n",
       "      <td>Testeshaan Testaggarwal Family Health Prime Pro</td>\n",
       "      <td>0012j00000GmxLdAAJ</td>\n",
       "    </tr>\n",
       "    <tr>\n",
       "      <th>2</th>\n",
       "      <td>GM01CSHP04707551</td>\n",
       "      <td>Divyatest Test Test Credit Suisse Health Prime...</td>\n",
       "      <td>0018p0000054vjzAAA</td>\n",
       "    </tr>\n",
       "    <tr>\n",
       "      <th>3</th>\n",
       "      <td>GM01RHHPP04222055</td>\n",
       "      <td>Test1 Test Test2 Red Hat Health Prime Plan</td>\n",
       "      <td>0018p000004rhlqAAA</td>\n",
       "    </tr>\n",
       "    <tr>\n",
       "      <th>4</th>\n",
       "      <td>GM01CSHP04529738</td>\n",
       "      <td>Test Test Test Credit Suisse Health Prime Plus</td>\n",
       "      <td>0018p00000552gZAAQ</td>\n",
       "    </tr>\n",
       "  </tbody>\n",
       "</table>\n",
       "</div>"
      ],
      "text/plain": [
       "                 HAN                                        Policy Name  \\\n",
       "0   01CHSP0000002222  Testt test Kumarr Complete Health Solution Pla...   \n",
       "1     01FHPP02737125    Testeshaan Testaggarwal Family Health Prime Pro   \n",
       "2   GM01CSHP04707551  Divyatest Test Test Credit Suisse Health Prime...   \n",
       "3  GM01RHHPP04222055         Test1 Test Test2 Red Hat Health Prime Plan   \n",
       "4   GM01CSHP04529738     Test Test Test Credit Suisse Health Prime Plus   \n",
       "\n",
       "            AccountId  \n",
       "0  0012j00000GjoGnAAJ  \n",
       "1  0012j00000GmxLdAAJ  \n",
       "2  0018p0000054vjzAAA  \n",
       "3  0018p000004rhlqAAA  \n",
       "4  0018p00000552gZAAQ  "
      ]
     },
     "execution_count": 54,
     "metadata": {},
     "output_type": "execute_result"
    }
   ],
   "source": [
    "han_to_account_dict = {}\n",
    "\n",
    "for account_id, han in zip(claims_df['AccountId'], claims_df['HAN']):\n",
    "    if han is not None:\n",
    "        han_to_account_dict[han] = account_id\n",
    "\n",
    "policies_df['AccountId'] = policies_df['HAN'].map(han_to_account_dict)\n",
    "policies_df.head()"
   ]
  },
  {
   "cell_type": "markdown",
   "metadata": {},
   "source": [
    "### Now all three dataframes can be accessed by each other\n",
    "\n",
    "### Saving all the dataframes into an excel sheet"
   ]
  },
  {
   "cell_type": "code",
   "execution_count": 55,
   "metadata": {},
   "outputs": [],
   "source": [
    "with pd.ExcelWriter('Assignment1-Updated.xlsx') as writer:\n",
    "    # Write each DataFrame to a separate sheet\n",
    "    accounts_df.to_excel(writer, sheet_name='Accounts', index=False)\n",
    "    policies_df.to_excel(writer, sheet_name='Policies', index=False)\n",
    "    claims_df.to_excel(writer, sheet_name='Claims', index=False)"
   ]
  },
  {
   "cell_type": "code",
   "execution_count": null,
   "metadata": {},
   "outputs": [],
   "source": []
  }
 ],
 "metadata": {
  "kernelspec": {
   "display_name": "Python 3.10.6 64-bit",
   "language": "python",
   "name": "python3"
  },
  "language_info": {
   "codemirror_mode": {
    "name": "ipython",
    "version": 3
   },
   "file_extension": ".py",
   "mimetype": "text/x-python",
   "name": "python",
   "nbconvert_exporter": "python",
   "pygments_lexer": "ipython3",
   "version": "3.10.6"
  },
  "orig_nbformat": 4,
  "vscode": {
   "interpreter": {
    "hash": "27f6fea6f47ae512550f0b8facdbd035a93e1dd89633f7bf2dd00a2502c71d0d"
   }
  }
 },
 "nbformat": 4,
 "nbformat_minor": 2
}
